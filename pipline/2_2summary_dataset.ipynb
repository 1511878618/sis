{
 "cells": [
  {
   "cell_type": "code",
   "execution_count": null,
   "metadata": {},
   "outputs": [],
   "source": [
    "import sys\n",
    "sys.path.append(\"/p300s/wangmx_group/xutingfeng/SIS/\")\n"
   ]
  },
  {
   "cell_type": "code",
   "execution_count": 1,
   "metadata": {},
   "outputs": [],
   "source": [
    "a = \"MANGILKKLPEDLVFLILLTFPVKSLLRLKCISKAWSILIQSTTFINRHINRKTNTKAEFILFKRSIKDEEEEFINILSFFSGHDDVLNPLFPDIDVSYMTSKCDCSFNPLIGPCDGLIALTDTIITIVLNPATRNFRVLPPSPFGCPKGYHRSVEGVGFGFDTISNYYKVVRISEVYCEEADGYPGPKDSKIDVCDLSTDSWRELDHVQLPSIYWVPCAGMLYKEMVHWFATTDTSMVILCFDMSTEMFHDMKMPDTCSRITHELYYGLVVLCESFTLIGYSNPISSIDPVEDKMHIWVMMEYGVSESWIMKYTIRPLSIESPLAVWKNHILLLQSRSGLLISYDLNSGEAKELNLHGFPDTLSVKVYKECLTSIPKGSEYSTKVQKF\""
   ]
  },
  {
   "cell_type": "code",
   "execution_count": 2,
   "metadata": {},
   "outputs": [],
   "source": [
    "from sis.dataset.constants import STANDARD_AMINO_ACID_MAPPING_TO_1_3"
   ]
  },
  {
   "cell_type": "code",
   "execution_count": 6,
   "metadata": {},
   "outputs": [
    {
     "data": {
      "text/plain": [
       "'PHE'"
      ]
     },
     "execution_count": 6,
     "metadata": {},
     "output_type": "execute_result"
    }
   ],
   "source": [
    "STANDARD_AMINO_ACID_MAPPING_TO_1_3[a[73]]"
   ]
  },
  {
   "cell_type": "code",
   "execution_count": 7,
   "metadata": {},
   "outputs": [],
   "source": [
    "from torch import nn \n"
   ]
  },
  {
   "cell_type": "code",
   "execution_count": 8,
   "metadata": {},
   "outputs": [],
   "source": [
    "fc1 = nn.Linear(20,30)"
   ]
  },
  {
   "cell_type": "code",
   "execution_count": 14,
   "metadata": {},
   "outputs": [
    {
     "name": "stdout",
     "output_type": "stream",
     "text": [
      "torch.Size([30, 20])\n",
      "torch.Size([30])\n"
     ]
    }
   ],
   "source": [
    "for i in fc1.parameters():\n",
    "    print(i.shape)"
   ]
  },
  {
   "cell_type": "code",
   "execution_count": null,
   "metadata": {},
   "outputs": [],
   "source": []
  }
 ],
 "metadata": {
  "kernelspec": {
   "display_name": "torch",
   "language": "python",
   "name": "python3"
  },
  "language_info": {
   "codemirror_mode": {
    "name": "ipython",
    "version": 3
   },
   "file_extension": ".py",
   "mimetype": "text/x-python",
   "name": "python",
   "nbconvert_exporter": "python",
   "pygments_lexer": "ipython3",
   "version": "3.10.4 (main, Mar 31 2022, 08:41:55) [GCC 7.5.0]"
  },
  "orig_nbformat": 4,
  "vscode": {
   "interpreter": {
    "hash": "29d64b9f22f3e4a9a4b366339e885cc706a611874a6ccdca25799fb00f02ac96"
   }
  }
 },
 "nbformat": 4,
 "nbformat_minor": 2
}
