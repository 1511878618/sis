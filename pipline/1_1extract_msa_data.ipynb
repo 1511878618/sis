{
 "cells": [
  {
   "cell_type": "code",
   "execution_count": 1,
   "metadata": {},
   "outputs": [],
   "source": [
    "from Bio.Align.Applications import ClustalwCommandline"
   ]
  },
  {
   "cell_type": "code",
   "execution_count": 4,
   "metadata": {},
   "outputs": [],
   "source": [
    "import os \n",
    "import os.path as osp\n",
    "\n",
    "from Bio import SeqIO\n"
   ]
  },
  {
   "cell_type": "code",
   "execution_count": 6,
   "metadata": {},
   "outputs": [
    {
     "data": {
      "text/plain": [
       "SeqRecord(seq=Seq('MVKSRIISVFFIFLFSFSPVYGNFEYLQLVLTWPASFCFRPKNICKRPAPKNFT...LFR'), id='S1-RNase', name='S1-RNase', description='S1-RNase', dbxrefs=[])"
      ]
     },
     "execution_count": 6,
     "metadata": {},
     "output_type": "execute_result"
    }
   ],
   "source": [
    "a = SeqIO.read(\"/p300s/wangmx_group/xutingfeng/SIS/data/fasta/single/S1-RNase.fasta\",\"fasta\")\n",
    "a "
   ]
  },
  {
   "attachments": {},
   "cell_type": "markdown",
   "metadata": {},
   "source": [
    "## 序列比对"
   ]
  },
  {
   "cell_type": "code",
   "execution_count": 26,
   "metadata": {},
   "outputs": [
    {
     "data": {
      "text/plain": [
       "28"
      ]
     },
     "execution_count": 26,
     "metadata": {},
     "output_type": "execute_result"
    }
   ],
   "source": [
    "fasta_path = \"/p300s/wangmx_group/xutingfeng/SIS/data/fasta/single\"\n",
    "\n",
    "RNase_lists = [SeqIO.read(osp.join(fasta_path, i),\"fasta\") for i in os.listdir(fasta_path) if \"RNase\" in i]\n",
    "\n",
    "SeqIO.write(RNase_lists, osp.join(fasta_path, \"SRnase.fasta\"), \"fasta\")\n",
    "\n",
    "\n",
    "SLF_lists = [SeqIO.read(osp.join(fasta_path, i),\"fasta\") for i in os.listdir(fasta_path) if \"SLF\" in i]\n",
    "\n",
    "SeqIO.write(SLF_lists, osp.join(fasta_path, \"SLF.fasta\"), \"fasta\")\n",
    "\n",
    "\n"
   ]
  },
  {
   "cell_type": "code",
   "execution_count": 27,
   "metadata": {},
   "outputs": [],
   "source": [
    "cline_SLF = ClustalwCommandline(\"clustalw2\", infile=osp.join(fasta_path,\"SLF.fasta\"))\n",
    "\n",
    "cline_SRnase = ClustalwCommandline(\"clustalw2\", infile=osp.join(fasta_path,\"SRnase.fasta\"))\n",
    "\n"
   ]
  },
  {
   "cell_type": "code",
   "execution_count": 28,
   "metadata": {},
   "outputs": [
    {
     "data": {
      "text/plain": [
       "('\\n\\n\\n CLUSTAL 2.1 Multiple Sequence Alignments\\n\\n\\nSequence format is Pearson\\nSequence 1: S1-RNase     223 aa\\nSequence 2: S11-RNase    216 aa\\nSequence 3: S17-RNase    220 aa\\nSequence 4: S19-RNase    194 aa\\nSequence 5: S3-RNase     202 aa\\nSequence 6: S5-RNase     219 aa\\nSequence 7: S7-RNase     218 aa\\nSequence 8: S9-RNase     198 aa\\nStart of Pairwise alignments\\nAligning...\\n\\nSequences (1:2) Aligned. Score:  40\\nSequences (1:3) Aligned. Score:  59\\nSequences (1:4) Aligned. Score:  38\\nSequences (1:5) Aligned. Score:  69\\nSequences (1:6) Aligned. Score:  42\\nSequences (1:7) Aligned. Score:  44\\nSequences (1:8) Aligned. Score:  57\\nSequences (2:3) Aligned. Score:  46\\nSequences (2:4) Aligned. Score:  44\\nSequences (2:5) Aligned. Score:  38\\nSequences (2:6) Aligned. Score:  51\\nSequences (2:7) Aligned. Score:  68\\nSequences (2:8) Aligned. Score:  42\\nSequences (3:4) Aligned. Score:  41\\nSequences (3:5) Aligned. Score:  60\\nSequences (3:6) Aligned. Score:  44\\nSequences (3:7) Aligned. Score:  46\\nSequences (3:8) Aligned. Score:  54\\nSequences (4:5) Aligned. Score:  39\\nSequences (4:6) Aligned. Score:  43\\nSequences (4:7) Aligned. Score:  45\\nSequences (4:8) Aligned. Score:  42\\nSequences (5:6) Aligned. Score:  39\\nSequences (5:7) Aligned. Score:  42\\nSequences (5:8) Aligned. Score:  53\\nSequences (6:7) Aligned. Score:  54\\nSequences (6:8) Aligned. Score:  43\\nSequences (7:8) Aligned. Score:  45\\nGuide tree file created:   [/p300s/wangmx_group/xutingfeng/SIS/data/fasta/single/SRnase.dnd]\\n\\nThere are 7 groups\\nStart of Multiple Alignment\\n\\nAligning...\\nGroup 1: Sequences:   2      Score:4147\\nGroup 2: Sequences:   3      Score:3674\\nGroup 3: Sequences:   4      Score:2878\\nGroup 4: Sequences:   2      Score:3808\\nGroup 5: Sequences:   3      Score:3687\\nGroup 6: Sequences:   4      Score:3417\\nGroup 7: Sequences:   8      Score:2810\\nAlignment Score 17819\\n\\nCLUSTAL-Alignment file created  [/p300s/wangmx_group/xutingfeng/SIS/data/fasta/single/SRnase.aln]\\n\\n',\n",
       " '')"
      ]
     },
     "execution_count": 28,
     "metadata": {},
     "output_type": "execute_result"
    }
   ],
   "source": [
    "cline_SLF()\n",
    "cline_SRnase()"
   ]
  },
  {
   "attachments": {},
   "cell_type": "markdown",
   "metadata": {},
   "source": [
    "## 读取序列比对"
   ]
  },
  {
   "cell_type": "code",
   "execution_count": 68,
   "metadata": {},
   "outputs": [],
   "source": [
    "from Bio import AlignIO\n",
    "\n",
    "align_path = \"/p300s/wangmx_group/xutingfeng/SIS/data/alignment\"\n",
    "\n",
    "SLF_aln = AlignIO.read(osp.join(align_path, \"SLF.aln\"), \"clustal\")\n",
    "SRnase_aln = AlignIO.read(osp.join(align_path, \"SRnase.aln\"), \"clustal\")"
   ]
  },
  {
   "cell_type": "code",
   "execution_count": 64,
   "metadata": {},
   "outputs": [],
   "source": [
    "PAD = \"<pad>\""
   ]
  },
  {
   "cell_type": "code",
   "execution_count": 69,
   "metadata": {},
   "outputs": [],
   "source": [
    "SLF_dict = {}\n",
    "for record in SLF_aln:\n",
    "    # print(record)\n",
    "    seq = record.seq \n",
    "    SLF_dict[record.id] = [PAD if i == \"-\" else i for i in seq ]\n",
    "\n",
    "SRnase_dict = {}\n",
    "for record in SRnase_aln:\n",
    "    seq = record.seq \n",
    "    SRnase_dict[record.id] = [PAD if i == \"-\" else i for i in seq ]\n",
    "    "
   ]
  },
  {
   "cell_type": "code",
   "execution_count": 76,
   "metadata": {},
   "outputs": [
    {
     "data": {
      "text/html": [
       "<div>\n",
       "<style scoped>\n",
       "    .dataframe tbody tr th:only-of-type {\n",
       "        vertical-align: middle;\n",
       "    }\n",
       "\n",
       "    .dataframe tbody tr th {\n",
       "        vertical-align: top;\n",
       "    }\n",
       "\n",
       "    .dataframe thead th {\n",
       "        text-align: right;\n",
       "    }\n",
       "</style>\n",
       "<table border=\"1\" class=\"dataframe\">\n",
       "  <thead>\n",
       "    <tr style=\"text-align: right;\">\n",
       "      <th></th>\n",
       "      <th>SLF</th>\n",
       "      <th>SLF_Seq</th>\n",
       "      <th>SRnase</th>\n",
       "      <th>SRnase_Seq</th>\n",
       "      <th>label</th>\n",
       "    </tr>\n",
       "  </thead>\n",
       "  <tbody>\n",
       "    <tr>\n",
       "      <th>0</th>\n",
       "      <td>S5-SLF1</td>\n",
       "      <td>[&lt;pad&gt;, &lt;pad&gt;, &lt;pad&gt;, &lt;pad&gt;, &lt;pad&gt;, &lt;pad&gt;, &lt;pa...</td>\n",
       "      <td>S17-RNase</td>\n",
       "      <td>[M, F, K, S, Q, L, T, S, A, H, F, I, L, L, F, ...</td>\n",
       "      <td>1</td>\n",
       "    </tr>\n",
       "    <tr>\n",
       "      <th>1</th>\n",
       "      <td>S5-SLF1</td>\n",
       "      <td>[&lt;pad&gt;, &lt;pad&gt;, &lt;pad&gt;, &lt;pad&gt;, &lt;pad&gt;, &lt;pad&gt;, &lt;pa...</td>\n",
       "      <td>S9-RNase</td>\n",
       "      <td>[&lt;pad&gt;, &lt;pad&gt;, &lt;pad&gt;, &lt;pad&gt;, &lt;pad&gt;, &lt;pad&gt;, &lt;pa...</td>\n",
       "      <td>1</td>\n",
       "    </tr>\n",
       "    <tr>\n",
       "      <th>2</th>\n",
       "      <td>S5-SLF2</td>\n",
       "      <td>[&lt;pad&gt;, &lt;pad&gt;, &lt;pad&gt;, &lt;pad&gt;, &lt;pad&gt;, &lt;pad&gt;, &lt;pa...</td>\n",
       "      <td>S9-RNase</td>\n",
       "      <td>[&lt;pad&gt;, &lt;pad&gt;, &lt;pad&gt;, &lt;pad&gt;, &lt;pad&gt;, &lt;pad&gt;, &lt;pa...</td>\n",
       "      <td>1</td>\n",
       "    </tr>\n",
       "    <tr>\n",
       "      <th>3</th>\n",
       "      <td>S5-SLF2</td>\n",
       "      <td>[&lt;pad&gt;, &lt;pad&gt;, &lt;pad&gt;, &lt;pad&gt;, &lt;pad&gt;, &lt;pad&gt;, &lt;pa...</td>\n",
       "      <td>S11-RNase</td>\n",
       "      <td>[M, L, R, S, Q, L, M, S, V, F, F, I, L, F, F, ...</td>\n",
       "      <td>1</td>\n",
       "    </tr>\n",
       "    <tr>\n",
       "      <th>4</th>\n",
       "      <td>S7-SLF1</td>\n",
       "      <td>[&lt;pad&gt;, &lt;pad&gt;, &lt;pad&gt;, &lt;pad&gt;, &lt;pad&gt;, &lt;pad&gt;, &lt;pa...</td>\n",
       "      <td>S9-RNase</td>\n",
       "      <td>[&lt;pad&gt;, &lt;pad&gt;, &lt;pad&gt;, &lt;pad&gt;, &lt;pad&gt;, &lt;pad&gt;, &lt;pa...</td>\n",
       "      <td>1</td>\n",
       "    </tr>\n",
       "    <tr>\n",
       "      <th>...</th>\n",
       "      <td>...</td>\n",
       "      <td>...</td>\n",
       "      <td>...</td>\n",
       "      <td>...</td>\n",
       "      <td>...</td>\n",
       "    </tr>\n",
       "    <tr>\n",
       "      <th>69</th>\n",
       "      <td>S9-SLF10</td>\n",
       "      <td>[&lt;pad&gt;, &lt;pad&gt;, &lt;pad&gt;, &lt;pad&gt;, &lt;pad&gt;, &lt;pad&gt;, &lt;pa...</td>\n",
       "      <td>S9-RNase</td>\n",
       "      <td>[&lt;pad&gt;, &lt;pad&gt;, &lt;pad&gt;, &lt;pad&gt;, &lt;pad&gt;, &lt;pad&gt;, &lt;pa...</td>\n",
       "      <td>-1</td>\n",
       "    </tr>\n",
       "    <tr>\n",
       "      <th>70</th>\n",
       "      <td>S9-SLF17</td>\n",
       "      <td>[&lt;pad&gt;, &lt;pad&gt;, &lt;pad&gt;, &lt;pad&gt;, &lt;pad&gt;, &lt;pad&gt;, &lt;pa...</td>\n",
       "      <td>S9-RNase</td>\n",
       "      <td>[&lt;pad&gt;, &lt;pad&gt;, &lt;pad&gt;, &lt;pad&gt;, &lt;pad&gt;, &lt;pad&gt;, &lt;pa...</td>\n",
       "      <td>-1</td>\n",
       "    </tr>\n",
       "    <tr>\n",
       "      <th>71</th>\n",
       "      <td>S9-SLF3</td>\n",
       "      <td>[&lt;pad&gt;, &lt;pad&gt;, &lt;pad&gt;, &lt;pad&gt;, &lt;pad&gt;, &lt;pad&gt;, &lt;pa...</td>\n",
       "      <td>S9-RNase</td>\n",
       "      <td>[&lt;pad&gt;, &lt;pad&gt;, &lt;pad&gt;, &lt;pad&gt;, &lt;pad&gt;, &lt;pad&gt;, &lt;pa...</td>\n",
       "      <td>-1</td>\n",
       "    </tr>\n",
       "    <tr>\n",
       "      <th>72</th>\n",
       "      <td>S9-SLF4</td>\n",
       "      <td>[M, K, L, N, S, K, K, Y, K, M, S, D, R, I, I, ...</td>\n",
       "      <td>S9-RNase</td>\n",
       "      <td>[&lt;pad&gt;, &lt;pad&gt;, &lt;pad&gt;, &lt;pad&gt;, &lt;pad&gt;, &lt;pad&gt;, &lt;pa...</td>\n",
       "      <td>-1</td>\n",
       "    </tr>\n",
       "    <tr>\n",
       "      <th>73</th>\n",
       "      <td>S9-SLF5</td>\n",
       "      <td>[&lt;pad&gt;, &lt;pad&gt;, &lt;pad&gt;, &lt;pad&gt;, &lt;pad&gt;, &lt;pad&gt;, &lt;pa...</td>\n",
       "      <td>S9-RNase</td>\n",
       "      <td>[&lt;pad&gt;, &lt;pad&gt;, &lt;pad&gt;, &lt;pad&gt;, &lt;pad&gt;, &lt;pad&gt;, &lt;pa...</td>\n",
       "      <td>-1</td>\n",
       "    </tr>\n",
       "  </tbody>\n",
       "</table>\n",
       "<p>74 rows × 5 columns</p>\n",
       "</div>"
      ],
      "text/plain": [
       "         SLF                                            SLF_Seq     SRnase  \\\n",
       "0    S5-SLF1  [<pad>, <pad>, <pad>, <pad>, <pad>, <pad>, <pa...  S17-RNase   \n",
       "1    S5-SLF1  [<pad>, <pad>, <pad>, <pad>, <pad>, <pad>, <pa...   S9-RNase   \n",
       "2    S5-SLF2  [<pad>, <pad>, <pad>, <pad>, <pad>, <pad>, <pa...   S9-RNase   \n",
       "3    S5-SLF2  [<pad>, <pad>, <pad>, <pad>, <pad>, <pad>, <pa...  S11-RNase   \n",
       "4    S7-SLF1  [<pad>, <pad>, <pad>, <pad>, <pad>, <pad>, <pa...   S9-RNase   \n",
       "..       ...                                                ...        ...   \n",
       "69  S9-SLF10  [<pad>, <pad>, <pad>, <pad>, <pad>, <pad>, <pa...   S9-RNase   \n",
       "70  S9-SLF17  [<pad>, <pad>, <pad>, <pad>, <pad>, <pad>, <pa...   S9-RNase   \n",
       "71   S9-SLF3  [<pad>, <pad>, <pad>, <pad>, <pad>, <pad>, <pa...   S9-RNase   \n",
       "72   S9-SLF4  [M, K, L, N, S, K, K, Y, K, M, S, D, R, I, I, ...   S9-RNase   \n",
       "73   S9-SLF5  [<pad>, <pad>, <pad>, <pad>, <pad>, <pad>, <pa...   S9-RNase   \n",
       "\n",
       "                                           SRnase_Seq  label  \n",
       "0   [M, F, K, S, Q, L, T, S, A, H, F, I, L, L, F, ...      1  \n",
       "1   [<pad>, <pad>, <pad>, <pad>, <pad>, <pad>, <pa...      1  \n",
       "2   [<pad>, <pad>, <pad>, <pad>, <pad>, <pad>, <pa...      1  \n",
       "3   [M, L, R, S, Q, L, M, S, V, F, F, I, L, F, F, ...      1  \n",
       "4   [<pad>, <pad>, <pad>, <pad>, <pad>, <pad>, <pa...      1  \n",
       "..                                                ...    ...  \n",
       "69  [<pad>, <pad>, <pad>, <pad>, <pad>, <pad>, <pa...     -1  \n",
       "70  [<pad>, <pad>, <pad>, <pad>, <pad>, <pad>, <pa...     -1  \n",
       "71  [<pad>, <pad>, <pad>, <pad>, <pad>, <pad>, <pa...     -1  \n",
       "72  [<pad>, <pad>, <pad>, <pad>, <pad>, <pad>, <pa...     -1  \n",
       "73  [<pad>, <pad>, <pad>, <pad>, <pad>, <pad>, <pa...     -1  \n",
       "\n",
       "[74 rows x 5 columns]"
      ]
     },
     "execution_count": 76,
     "metadata": {},
     "output_type": "execute_result"
    }
   ],
   "source": [
    "import pandas as pd \n",
    "relation_df_dir = \"/p300s/wangmx_group/xutingfeng/SIS/data/all_sis_combination.csv\"\n",
    "\n",
    "relation_df = pd.read_csv(relation_df_dir, sep=\",\")\n",
    "\n",
    "relation_dict = []\n",
    "for idx, series in relation_df.iterrows():\n",
    "    tmp_dict = {}\n",
    "    series_dict = dict(series)\n",
    "\n",
    "    tmp_dict[\"SLF\"] = series_dict[\"SLF\"]\n",
    "    tmp_dict[\"SLF_Seq\"] = SLF_dict[tmp_dict[\"SLF\"]]\n",
    "    tmp_dict[\"SRnase\"]= series_dict[\"SRnase\"]\n",
    "    tmp_dict[\"SRnase_Seq\"] = SRnase_dict[tmp_dict[\"SRnase\"]]\n",
    "    tmp_dict[\"label\"] = series_dict[\"降解能力（1为可以降解，0为几乎不降解）\"]\n",
    "    relation_dict.append(tmp_dict)\n",
    "\n",
    "MSA_sis_df = pd.DataFrame(relation_dict)\n",
    "MSA_sis_df"
   ]
  },
  {
   "cell_type": "code",
   "execution_count": 78,
   "metadata": {},
   "outputs": [],
   "source": [
    "MSA_sis_df.to_csv(\"/p300s/wangmx_group/xutingfeng/SIS/data/msa_total_data.csv\", index=False, sep=\",\")"
   ]
  },
  {
   "cell_type": "code",
   "execution_count": null,
   "metadata": {},
   "outputs": [],
   "source": []
  }
 ],
 "metadata": {
  "kernelspec": {
   "display_name": "torch",
   "language": "python",
   "name": "python3"
  },
  "language_info": {
   "codemirror_mode": {
    "name": "ipython",
    "version": 3
   },
   "file_extension": ".py",
   "mimetype": "text/x-python",
   "name": "python",
   "nbconvert_exporter": "python",
   "pygments_lexer": "ipython3",
   "version": "3.10.4 (main, Mar 31 2022, 08:41:55) [GCC 7.5.0]"
  },
  "orig_nbformat": 4,
  "vscode": {
   "interpreter": {
    "hash": "29d64b9f22f3e4a9a4b366339e885cc706a611874a6ccdca25799fb00f02ac96"
   }
  }
 },
 "nbformat": 4,
 "nbformat_minor": 2
}
