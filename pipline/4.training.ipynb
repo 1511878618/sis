{
 "cells": [
  {
   "cell_type": "code",
   "execution_count": 1,
   "metadata": {},
   "outputs": [],
   "source": [
    "import sys\n",
    "sys.path.append(\"/p300s/wangmx_group/xutingfeng/SIS/\")\n"
   ]
  },
  {
   "cell_type": "code",
   "execution_count": 2,
   "metadata": {},
   "outputs": [
    {
     "name": "stderr",
     "output_type": "stream",
     "text": [
      "Using custom data configuration default-52200760334198e7\n",
      "Reusing dataset csv (/home/xutingfeng/.cache/huggingface/datasets/csv/default-52200760334198e7/0.0.0/652c3096f041ee27b04d2232d41f10547a8fecda3e284a79a0ec4053c916ef7a)\n"
     ]
    },
    {
     "data": {
      "application/vnd.jupyter.widget-view+json": {
       "model_id": "98553b66b38b4c788340bc06e9281ad7",
       "version_major": 2,
       "version_minor": 0
      },
      "text/plain": [
       "  0%|          | 0/1 [00:00<?, ?it/s]"
      ]
     },
     "metadata": {},
     "output_type": "display_data"
    },
    {
     "name": "stdout",
     "output_type": "stream",
     "text": [
      "     "
     ]
    },
    {
     "name": "stderr",
     "output_type": "stream",
     "text": [
      "Loading cached processed dataset at /home/xutingfeng/.cache/huggingface/datasets/csv/default-52200760334198e7/0.0.0/652c3096f041ee27b04d2232d41f10547a8fecda3e284a79a0ec4053c916ef7a/cache-bec2fd355b0cb7d7.arrow\n"
     ]
    },
    {
     "name": "stdout",
     "output_type": "stream",
     "text": [
      " "
     ]
    },
    {
     "name": "stderr",
     "output_type": "stream",
     "text": [
      "Loading cached processed dataset at /home/xutingfeng/.cache/huggingface/datasets/csv/default-52200760334198e7/0.0.0/652c3096f041ee27b04d2232d41f10547a8fecda3e284a79a0ec4053c916ef7a/cache-d7b3eee632703ea9.arrow\n"
     ]
    },
    {
     "name": "stdout",
     "output_type": "stream",
     "text": [
      "  "
     ]
    },
    {
     "name": "stderr",
     "output_type": "stream",
     "text": [
      "Loading cached processed dataset at /home/xutingfeng/.cache/huggingface/datasets/csv/default-52200760334198e7/0.0.0/652c3096f041ee27b04d2232d41f10547a8fecda3e284a79a0ec4053c916ef7a/cache-fbd879c251d0f77b.arrow\n",
      "Loading cached processed dataset at /home/xutingfeng/.cache/huggingface/datasets/csv/default-52200760334198e7/0.0.0/652c3096f041ee27b04d2232d41f10547a8fecda3e284a79a0ec4053c916ef7a/cache-0f1986b4010acd7d.arrow\n",
      "Loading cached split indices for dataset at /home/xutingfeng/.cache/huggingface/datasets/csv/default-52200760334198e7/0.0.0/652c3096f041ee27b04d2232d41f10547a8fecda3e284a79a0ec4053c916ef7a/cache-088d52191e3b3af4.arrow and /home/xutingfeng/.cache/huggingface/datasets/csv/default-52200760334198e7/0.0.0/652c3096f041ee27b04d2232d41f10547a8fecda3e284a79a0ec4053c916ef7a/cache-9b3b3c18e50420ce.arrow\n"
     ]
    }
   ],
   "source": [
    "\n",
    "from sis.dataset import SISDataset\n",
    "import torch \n",
    "import transformers \n",
    "from sis.model.sismodel import DoubleTransformerModel\n",
    "from sis.utils import modelParametersNum, try_gpu\n",
    "\n",
    "# Step1 dataset load \n",
    "# device = try_gpu()\n",
    "device = \"cpu\"\n",
    "\n",
    "sisdataset = SISDataset(root_dir=\"/p300s/wangmx_group/xutingfeng/SIS/sis/dataset/total_data.csv\", device = device)\n",
    "\n",
    "aa_vocab = sisdataset.aa_vocab\n",
    "sis_datasetDict = sisdataset.dataset_dict\n",
    "\n",
    "train_dataloader = torch.utils.data.DataLoader(sis_datasetDict[\"train\"], batch_size=4)\n",
    "test_dataloader = torch.utils.data.DataLoader(sis_datasetDict[\"test\"], batch_size=4)\n",
    "\n",
    "\n"
   ]
  },
  {
   "cell_type": "code",
   "execution_count": 5,
   "metadata": {},
   "outputs": [
    {
     "name": "stdout",
     "output_type": "stream",
     "text": [
      "模型总参数个数：40874\n",
      "40874\n",
      "epoch 10 : train: mean loss/per 0.808 acc is 0.780 and time is 18.845192926364565review/per sec\n",
      "test: loss 1.728 and acc is 0.800\n",
      "epoch 20 : train: mean loss/per 0.726 acc is 0.593 and time is 18.933578595251195review/per sec\n",
      "test: loss 1.723 and acc is 0.533\n",
      "epoch 30 : train: mean loss/per 0.661 acc is 0.729 and time is 18.4981399745578review/per sec\n",
      "test: loss 1.777 and acc is 0.533\n",
      "epoch 40 : train: mean loss/per 0.621 acc is 0.712 and time is 18.041212718232977review/per sec\n",
      "test: loss 1.806 and acc is 0.533\n"
     ]
    }
   ],
   "source": [
    "from sis.train import train\n",
    "from torch import nn \n",
    "from torch.utils.tensorboard import SummaryWriter\n",
    "import os.path as osp\n",
    "import os \n",
    "\n",
    "# Step2 build model\n",
    "N = 4 \n",
    "d_model = len(aa_vocab)\n",
    "d_ff = 64 \n",
    "dropout = 0.1 \n",
    "length = sisdataset.SLF_max_length + sisdataset.SRnase_max_length\n",
    "\n",
    "model = DoubleTransformerModel(N = N, d_model=d_model,d_ff=d_ff, dropout=dropout, seq_length=length) \n",
    "\n",
    "# Step3定义 optim and loss\n",
    "optim = torch.optim.Adam(model.parameters(), lr=1e-4)\n",
    "loss = nn.CrossEntropyLoss()\n",
    "print(modelParametersNum(model))\n",
    "## log path and save path\n",
    "model_name = model.__class__.__name__\n",
    "log_path = f\"/p300s/wangmx_group/xutingfeng/SIS/output/logs/{model_name}\"\n",
    "\n",
    "summaryWriter = SummaryWriter(log_path)  # 使用tensorboard记录loss\n",
    "\n",
    "save_path = f\"/p300s/wangmx_group/xutingfeng/SIS/output/model/{model_name}\"\n",
    "# Step4 train\n",
    "train(net = model, train_dataIter= train_dataloader, test_dataIter= test_dataloader,loss=loss, optim=optim, summary_writer = summaryWriter, epochs=100, device=device, savemodel=True, save_path = save_path)\n",
    "\n"
   ]
  },
  {
   "cell_type": "code",
   "execution_count": null,
   "metadata": {},
   "outputs": [],
   "source": []
  }
 ],
 "metadata": {
  "kernelspec": {
   "display_name": "torch",
   "language": "python",
   "name": "python3"
  },
  "language_info": {
   "codemirror_mode": {
    "name": "ipython",
    "version": 3
   },
   "file_extension": ".py",
   "mimetype": "text/x-python",
   "name": "python",
   "nbconvert_exporter": "python",
   "pygments_lexer": "ipython3",
   "version": "3.10.4"
  },
  "orig_nbformat": 4,
  "vscode": {
   "interpreter": {
    "hash": "29d64b9f22f3e4a9a4b366339e885cc706a611874a6ccdca25799fb00f02ac96"
   }
  }
 },
 "nbformat": 4,
 "nbformat_minor": 2
}
