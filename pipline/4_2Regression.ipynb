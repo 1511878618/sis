{
 "cells": [
  {
   "cell_type": "code",
   "execution_count": 1,
   "metadata": {},
   "outputs": [],
   "source": [
    "import sys\n",
    "sys.path.append(\"/p300s/wangmx_group/xutingfeng/SIS/\")\n"
   ]
  },
  {
   "cell_type": "code",
   "execution_count": 2,
   "metadata": {},
   "outputs": [
    {
     "name": "stderr",
     "output_type": "stream",
     "text": [
      "Using custom data configuration default-25cf8ae19bd6daf0\n",
      "Reusing dataset csv (/home/xutingfeng/.cache/huggingface/datasets/csv/default-25cf8ae19bd6daf0/0.0.0/652c3096f041ee27b04d2232d41f10547a8fecda3e284a79a0ec4053c916ef7a)\n"
     ]
    },
    {
     "data": {
      "application/vnd.jupyter.widget-view+json": {
       "model_id": "dd447f828a7d47648d7b93bc651e3c13",
       "version_major": 2,
       "version_minor": 0
      },
      "text/plain": [
       "  0%|          | 0/1 [00:00<?, ?it/s]"
      ]
     },
     "metadata": {},
     "output_type": "display_data"
    },
    {
     "name": "stdout",
     "output_type": "stream",
     "text": [
      "     "
     ]
    },
    {
     "name": "stderr",
     "output_type": "stream",
     "text": [
      "Loading cached processed dataset at /home/xutingfeng/.cache/huggingface/datasets/csv/default-25cf8ae19bd6daf0/0.0.0/652c3096f041ee27b04d2232d41f10547a8fecda3e284a79a0ec4053c916ef7a/cache-2ff8430349cd8a96.arrow\n"
     ]
    },
    {
     "name": "stdout",
     "output_type": "stream",
     "text": [
      " "
     ]
    },
    {
     "name": "stderr",
     "output_type": "stream",
     "text": [
      "Loading cached processed dataset at /home/xutingfeng/.cache/huggingface/datasets/csv/default-25cf8ae19bd6daf0/0.0.0/652c3096f041ee27b04d2232d41f10547a8fecda3e284a79a0ec4053c916ef7a/cache-37eeedbc7dd983ee.arrow\n"
     ]
    },
    {
     "name": "stdout",
     "output_type": "stream",
     "text": [
      " "
     ]
    },
    {
     "name": "stderr",
     "output_type": "stream",
     "text": [
      "Loading cached processed dataset at /home/xutingfeng/.cache/huggingface/datasets/csv/default-25cf8ae19bd6daf0/0.0.0/652c3096f041ee27b04d2232d41f10547a8fecda3e284a79a0ec4053c916ef7a/cache-fb14288b7f2c917c.arrow\n"
     ]
    },
    {
     "name": "stdout",
     "output_type": "stream",
     "text": [
      " "
     ]
    },
    {
     "name": "stderr",
     "output_type": "stream",
     "text": [
      "Loading cached processed dataset at /home/xutingfeng/.cache/huggingface/datasets/csv/default-25cf8ae19bd6daf0/0.0.0/652c3096f041ee27b04d2232d41f10547a8fecda3e284a79a0ec4053c916ef7a/cache-281efcb2da39b9a3.arrow\n",
      "Loading cached split indices for dataset at /home/xutingfeng/.cache/huggingface/datasets/csv/default-25cf8ae19bd6daf0/0.0.0/652c3096f041ee27b04d2232d41f10547a8fecda3e284a79a0ec4053c916ef7a/cache-389e93295146aaa7.arrow and /home/xutingfeng/.cache/huggingface/datasets/csv/default-25cf8ae19bd6daf0/0.0.0/652c3096f041ee27b04d2232d41f10547a8fecda3e284a79a0ec4053c916ef7a/cache-38b56db73156af48.arrow\n"
     ]
    }
   ],
   "source": [
    "\n",
    "from sis.dataset import SIS_MSADataset\n",
    "import torch \n",
    "# import transformers \n",
    "\n",
    "\n",
    "# Step1 dataset load \n",
    "# device = try_gpu()\n",
    "device = \"cuda:1\"\n",
    "\n",
    "sisdataset = SIS_MSADataset(root_dir = \"/p300s/wangmx_group/xutingfeng/SIS/data/msa_total_data.csv\", device = device)\n",
    "# sisdataset = SIS_MSADataset(root_dir = \"/p300s/wangmx_group/xutingfeng/SIS/data/msa_total_data.csv\", device = device)\n",
    "\n",
    "\n",
    "aa_vocab = sisdataset.aa_vocab\n",
    "sis_datasetDict = sisdataset.dataset_dict\n",
    "\n",
    "train_dataloader = torch.utils.data.DataLoader(sis_datasetDict[\"train\"], batch_size=4, shuffle=True)\n",
    "test_dataloader = torch.utils.data.DataLoader(sis_datasetDict[\"test\"], batch_size=4, shuffle=True)\n",
    "\n",
    "\n"
   ]
  },
  {
   "cell_type": "code",
   "execution_count": 3,
   "metadata": {},
   "outputs": [],
   "source": [
    "import importlib \n",
    "\n",
    "import sis.model.sismodel as sismodel "
   ]
  },
  {
   "cell_type": "code",
   "execution_count": 15,
   "metadata": {},
   "outputs": [
    {
     "data": {
      "text/plain": [
       "<module 'sis.model.sismodel' from '/p300s/wangmx_group/xutingfeng/SIS/sis/model/sismodel.py'>"
      ]
     },
     "execution_count": 15,
     "metadata": {},
     "output_type": "execute_result"
    }
   ],
   "source": [
    "importlib.reload(sismodel)\n"
   ]
  },
  {
   "cell_type": "code",
   "execution_count": 16,
   "metadata": {},
   "outputs": [
    {
     "name": "stdout",
     "output_type": "stream",
     "text": [
      "模型总参数个数：169\n",
      "169\n",
      "epoch 10 : train: mean loss/per 1.848 acc is 0.667 and time is 497.4220289568612review/per sec\n",
      "test: loss 0.924 and acc is 0.800\n",
      "epoch 20 : train: mean loss/per 1.848 acc is 0.667 and time is 528.0946825030428review/per sec\n",
      "test: loss 0.924 and acc is 0.800\n",
      "epoch 30 : train: mean loss/per 1.848 acc is 0.667 and time is 475.3560378534595review/per sec\n",
      "test: loss 0.924 and acc is 0.800\n",
      "epoch 40 : train: mean loss/per 1.848 acc is 0.667 and time is 529.1922153569013review/per sec\n",
      "test: loss 0.693 and acc is 0.800\n",
      "epoch 50 : train: mean loss/per 1.848 acc is 0.667 and time is 532.1220186072737review/per sec\n",
      "test: loss 0.924 and acc is 0.800\n",
      "epoch 60 : train: mean loss/per 1.848 acc is 0.667 and time is 495.0313060412234review/per sec\n",
      "test: loss 0.693 and acc is 0.800\n",
      "epoch 70 : train: mean loss/per 1.848 acc is 0.667 and time is 527.1452001996935review/per sec\n",
      "test: loss 0.924 and acc is 0.800\n",
      "epoch 80 : train: mean loss/per 1.848 acc is 0.667 and time is 498.54210840847486review/per sec\n",
      "test: loss 0.924 and acc is 0.800\n",
      "epoch 90 : train: mean loss/per 1.848 acc is 0.667 and time is 525.8069979942055review/per sec\n",
      "test: loss 0.462 and acc is 0.800\n",
      "epoch 100 : train: mean loss/per 1.848 acc is 0.500 and time is 533.5925195598245review/per sec\n",
      "test: loss 0.924 and acc is 0.800\n"
     ]
    }
   ],
   "source": [
    "from sis.train import train\n",
    "from torch import nn \n",
    "\n",
    "from torch.utils.tensorboard import SummaryWriter\n",
    "import os.path as osp\n",
    "import os \n",
    "\n",
    "from sis.dataset.EmbeddingData.parse import load_expasy_embedding_dict, load_meiler_embedding_dict\n",
    "from sis.model.embedding import EmbeddingLayer, OnehotLayer\n",
    "\n",
    "from sis.model.sismodel import Regression\n",
    "\n",
    "from sis.utils import modelParametersNum, try_gpu\n",
    "# Step2 build model\n",
    "length = sisdataset.SLF_max_length + sisdataset.SRnase_max_length\n",
    "\n",
    "embedding_layer = EmbeddingLayer(aa_embedding_dict=load_meiler_embedding_dict(), aa_vocab=aa_vocab)  # property embedding \n",
    "# embedding_layer = OnehotLayer(len(aa_vocab))  # onehot\n",
    "\n",
    "model = Regression(EmbeddingLayer = embedding_layer) \n",
    "\n",
    "# Step3定义 optim and loss\n",
    "optim = torch.optim.NAdam(model.parameters(), lr=0.01)\n",
    "loss = nn.CrossEntropyLoss()\n",
    "print(modelParametersNum(model))\n",
    "## log path and save path\n",
    "model_name = model.__class__.__name__\n",
    "log_path = f\"/p300s/wangmx_group/xutingfeng/SIS/output/logs/{model_name}\"\n",
    "\n",
    "summaryWriter = SummaryWriter(log_path)  # 使用tensorboard记录loss\n",
    "\n",
    "save_path = f\"/p300s/wangmx_group/xutingfeng/SIS/output/model\"\n",
    "# Step4 train\n",
    "train(net = model, train_dataIter= train_dataloader, test_dataIter= test_dataloader,loss=loss, optim=optim, summary_writer = summaryWriter, epochs=100, device=device,\n",
    " savemodel=False, \n",
    "#  save_path = save_path\n",
    " )\n",
    "\n"
   ]
  },
  {
   "cell_type": "code",
   "execution_count": 17,
   "metadata": {},
   "outputs": [
    {
     "name": "stdout",
     "output_type": "stream",
     "text": [
      "tensor([[0.4996],\n",
      "        [0.4996],\n",
      "        [0.4996],\n",
      "        [0.4996]], device='cuda:1', grad_fn=<SigmoidBackward0>)\n",
      "tensor([[1.0000e-09, 1.0000e-09, 1.0000e-09, 1.0000e-09, 1.0000e-09, 1.0000e-09,\n",
      "         1.0000e-09, 1.0000e-09, 1.0000e-09, 1.0000e-09, 1.0000e-09, 1.0000e-09,\n",
      "         1.0000e-09, 1.0000e-09],\n",
      "        [1.0000e-09, 1.0000e-09, 1.0000e-09, 1.0000e-09, 1.0000e-09, 1.0000e-09,\n",
      "         1.0000e-09, 1.0000e-09, 1.0000e-09, 1.0000e-09, 1.0000e-09, 1.0000e-09,\n",
      "         1.0000e-09, 1.0000e-09],\n",
      "        [1.0000e-09, 1.0000e-09, 1.0000e-09, 1.0000e-09, 1.0000e-09, 1.0000e-09,\n",
      "         1.0000e-09, 1.0000e-09, 1.0000e-09, 1.0000e-09, 1.0000e-09, 1.0000e-09,\n",
      "         1.0000e-09, 1.0000e-09],\n",
      "        [1.0000e-09, 1.0000e-09, 1.0000e-09, 1.0000e-09, 1.0000e-09, 1.0000e-09,\n",
      "         1.0000e-09, 1.0000e-09, 1.0000e-09, 1.0000e-09, 1.0000e-09, 1.0000e-09,\n",
      "         1.0000e-09, 1.0000e-09]], device='cuda:1', grad_fn=<CatBackward0>)\n",
      "torch.Size([4, 2161])\n"
     ]
    }
   ],
   "source": [
    "for i in train_dataloader:\n",
    "    o = model(i, return_scores=True)\n",
    "    print(o)\n",
    "    print(model.scores)\n",
    "    print(i[\"SLF_Seq_mask\"].shape)\n",
    "    break "
   ]
  },
  {
   "cell_type": "code",
   "execution_count": null,
   "metadata": {},
   "outputs": [],
   "source": [
    "from itertools import chain\n",
    "import pandas as pd \n",
    "from sis.train import test, predict\n",
    "from sklearn.metrics import confusion_matrix, ConfusionMatrixDisplay\n",
    "\n",
    "iter_dataloader = train_dataloader\n",
    "\n",
    "o = predict(iter_dataloader, model).cpu()\n",
    "label = torch.concat([i[\"label\"] for i in iter_dataloader]).cpu()\n",
    "\n",
    "def flatten_list(x:list):\n",
    "    return list(chain.from_iterable(x))\n",
    "names = flatten_list([zip(i[\"SLF\"], i[\"SRnase\"]) for i in iter_dataloader])\n",
    "\n",
    "pred = (o>0.5).int().flatten()\n",
    "# pred = o.flatten()\n",
    "\n",
    "pd.DataFrame({\"names\":names, \"pred\":pred, \"label\":label})"
   ]
  },
  {
   "cell_type": "code",
   "execution_count": null,
   "metadata": {},
   "outputs": [],
   "source": []
  },
  {
   "cell_type": "code",
   "execution_count": 5,
   "metadata": {},
   "outputs": [
    {
     "data": {
      "text/plain": [
       "tensor([[[ 0.3495,  0.1740, -1.9586],\n",
       "         [-0.3947, -0.0043,  0.2500],\n",
       "         [-0.2303,  1.7879,  1.0129],\n",
       "         [-0.4710, -0.6035, -1.2733]],\n",
       "\n",
       "        [[ 0.5422,  0.1914, -1.4903],\n",
       "         [-0.8044,  0.1609,  1.0191],\n",
       "         [ 0.4501, -1.0653,  1.7319],\n",
       "         [ 1.9115,  0.3837,  2.0211]]])"
      ]
     },
     "execution_count": 5,
     "metadata": {},
     "output_type": "execute_result"
    }
   ],
   "source": [
    "x = torch.normal(0,1, (2, 4, 3))\n",
    "x"
   ]
  },
  {
   "cell_type": "code",
   "execution_count": 7,
   "metadata": {},
   "outputs": [
    {
     "data": {
      "text/plain": [
       "tensor([[ True, False, False, False],\n",
       "        [False,  True,  True, False]])"
      ]
     },
     "execution_count": 7,
     "metadata": {},
     "output_type": "execute_result"
    }
   ],
   "source": [
    "select = torch.tensor([[True, False, False, False], [False, True, True, False]])\n",
    "select\n"
   ]
  },
  {
   "cell_type": "code",
   "execution_count": 9,
   "metadata": {},
   "outputs": [],
   "source": [
    "def torch_mean(x, select):\n",
    "    # True 会被考虑，False会被丢掉\n",
    "    # select 和x维度应该数量一直，保证可以广播机制\n",
    "    # x = (batch, N1, N2..) select = (batch, N1, ...) bool matrix\n",
    "\n",
    "    select = select.unsqueeze(-1)\n",
    "    select = ~select  \n",
    "    x = x.masked_fill(select,1e-9).sum(dim=1)\n",
    "\n",
    "    count = select.int().sum(1)\n",
    "\n",
    "    return x/count \n",
    "\n",
    "    "
   ]
  },
  {
   "cell_type": "code",
   "execution_count": 10,
   "metadata": {},
   "outputs": [
    {
     "data": {
      "text/plain": [
       "tensor([[ 0.1165,  0.0580, -0.6529],\n",
       "        [-0.1771, -0.4522,  1.3755]])"
      ]
     },
     "execution_count": 10,
     "metadata": {},
     "output_type": "execute_result"
    }
   ],
   "source": [
    "o = torch_mean(x, select)\n",
    "o"
   ]
  },
  {
   "cell_type": "code",
   "execution_count": 112,
   "metadata": {},
   "outputs": [
    {
     "data": {
      "text/plain": [
       "False"
      ]
     },
     "execution_count": 112,
     "metadata": {},
     "output_type": "execute_result"
    }
   ],
   "source": [
    "oo.requires_grad"
   ]
  },
  {
   "cell_type": "code",
   "execution_count": 81,
   "metadata": {},
   "outputs": [
    {
     "data": {
      "text/plain": [
       "torch.Size([2, 4])"
      ]
     },
     "execution_count": 81,
     "metadata": {},
     "output_type": "execute_result"
    }
   ],
   "source": [
    "select_2d.shape"
   ]
  },
  {
   "cell_type": "code",
   "execution_count": 85,
   "metadata": {},
   "outputs": [
    {
     "ename": "TypeError",
     "evalue": "bad operand type for unary ~: 'list'",
     "output_type": "error",
     "traceback": [
      "\u001b[0;31m---------------------------------------------------------------------------\u001b[0m",
      "\u001b[0;31mTypeError\u001b[0m                                 Traceback (most recent call last)",
      "\u001b[1;32m/p300s/wangmx_group/xutingfeng/SIS/pipline/4_2Regression.ipynb Cell 20\u001b[0m in \u001b[0;36m<cell line: 1>\u001b[0;34m()\u001b[0m\n\u001b[0;32m----> <a href='vscode-notebook-cell://ssh-remote%2Bgpu03/p300s/wangmx_group/xutingfeng/SIS/pipline/4_2Regression.ipynb#X34sdnNjb2RlLXJlbW90ZQ%3D%3D?line=0'>1</a>\u001b[0m select \u001b[39m=\u001b[39m [\u001b[39m~\u001b[39;49mselect]\n\u001b[1;32m      <a href='vscode-notebook-cell://ssh-remote%2Bgpu03/p300s/wangmx_group/xutingfeng/SIS/pipline/4_2Regression.ipynb#X34sdnNjb2RlLXJlbW90ZQ%3D%3D?line=1'>2</a>\u001b[0m select\n",
      "\u001b[0;31mTypeError\u001b[0m: bad operand type for unary ~: 'list'"
     ]
    }
   ],
   "source": []
  },
  {
   "cell_type": "code",
   "execution_count": 90,
   "metadata": {},
   "outputs": [],
   "source": [
    "f = ~select_2d"
   ]
  },
  {
   "cell_type": "code",
   "execution_count": 91,
   "metadata": {},
   "outputs": [
    {
     "data": {
      "text/plain": [
       "tensor([[False,  True,  True,  True],\n",
       "        [ True, False, False,  True]])"
      ]
     },
     "execution_count": 91,
     "metadata": {},
     "output_type": "execute_result"
    }
   ],
   "source": [
    "f"
   ]
  },
  {
   "cell_type": "code",
   "execution_count": null,
   "metadata": {},
   "outputs": [],
   "source": []
  }
 ],
 "metadata": {
  "kernelspec": {
   "display_name": "torch",
   "language": "python",
   "name": "python3"
  },
  "language_info": {
   "codemirror_mode": {
    "name": "ipython",
    "version": 3
   },
   "file_extension": ".py",
   "mimetype": "text/x-python",
   "name": "python",
   "nbconvert_exporter": "python",
   "pygments_lexer": "ipython3",
   "version": "3.10.4"
  },
  "orig_nbformat": 4,
  "vscode": {
   "interpreter": {
    "hash": "29d64b9f22f3e4a9a4b366339e885cc706a611874a6ccdca25799fb00f02ac96"
   }
  }
 },
 "nbformat": 4,
 "nbformat_minor": 2
}
